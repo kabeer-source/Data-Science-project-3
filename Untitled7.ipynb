{
 "cells": [
  {
   "cell_type": "markdown",
   "id": "12f65200",
   "metadata": {},
   "source": [
    "# Multiplication Table"
   ]
  },
  {
   "cell_type": "code",
   "execution_count": 6,
   "id": "33f12d1a",
   "metadata": {},
   "outputs": [
    {
     "name": "stdout",
     "output_type": "stream",
     "text": [
      "*************************\n",
      "Enter the number :12\n",
      "12*1 = 12\n",
      "12*2 = 24\n",
      "12*3 = 36\n",
      "12*4 = 48\n",
      "12*5 = 60\n",
      "12*6 = 72\n",
      "12*7 = 84\n",
      "12*8 = 96\n",
      "12*9 = 108\n",
      "12*10 = 120\n"
     ]
    }
   ],
   "source": [
    "print(25*\"*\")\n",
    "number = int(input(\"Enter the number :\"))\n",
    "i=1\n",
    "while(i!=11):\n",
    "    result = i*number\n",
    "    print(str(number)+\"*\"+str(i)+\" = \"+str(result))\n",
    "    i = i+1"
   ]
  },
  {
   "cell_type": "code",
   "execution_count": null,
   "id": "37f5106b",
   "metadata": {},
   "outputs": [],
   "source": []
  }
 ],
 "metadata": {
  "kernelspec": {
   "display_name": "Python 3",
   "language": "python",
   "name": "python3"
  },
  "language_info": {
   "codemirror_mode": {
    "name": "ipython",
    "version": 3
   },
   "file_extension": ".py",
   "mimetype": "text/x-python",
   "name": "python",
   "nbconvert_exporter": "python",
   "pygments_lexer": "ipython3",
   "version": "3.8.8"
  }
 },
 "nbformat": 4,
 "nbformat_minor": 5
}
